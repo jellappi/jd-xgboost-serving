{
 "cells": [
  {
   "cell_type": "code",
   "execution_count": 19,
   "id": "de4408a9",
   "metadata": {},
   "outputs": [],
   "source": [
    "import re\n",
    "import nltk\n",
    "import pickle\n",
    "\n",
    "import pandas as pd\n",
    "import seaborn as sns\n",
    "import matplotlib.pyplot as plt\n",
    "import xgboost as xgb\n",
    "\n",
    "from nltk.corpus import stopwords\n",
    "from konlpy.tag import Kkma"
   ]
  },
  {
   "cell_type": "code",
   "execution_count": 20,
   "id": "9bb4826d",
   "metadata": {},
   "outputs": [],
   "source": [
    "def extract_kor(string):\n",
    "    \n",
    "    #kkam = Kkma()\n",
    "    \n",
    "    text_data = [] \n",
    "    \n",
    "    ex_pos = kkma.pos(string)\n",
    "    \n",
    "    for (text, tclass) in ex_pos : # ('형태소', 'NNG') \n",
    "        if tclass == 'NNG' or tclass == 'NNP' or tclass == 'NP' : \n",
    "            text_data.append(text)  \n",
    "            \n",
    "    return text_data\n",
    "\n",
    "\n",
    "def extract_eng(string):\n",
    "    \n",
    "    #wlem = nltk.WordNetLemmatizer()\n",
    "    \n",
    "    cleaned_content = re.sub(r'[^\\.\\?\\!\\w\\d\\s]', '', string)\n",
    "    \n",
    "    word_tokens = nltk.word_tokenize(cleaned_content)\n",
    "    tokens_pos = nltk.pos_tag(word_tokens)\n",
    "    \n",
    "    NN_words = []\n",
    "    for word, pos in tokens_pos:\n",
    "        if 'NN' in pos:\n",
    "            NN_words.append(word.lower())\n",
    "            \n",
    "    lemmatized_words = []\n",
    "    for word in NN_words:\n",
    "        new_word = wlem.lemmatize(word)\n",
    "        lemmatized_words.append(new_word)\n",
    "        \n",
    "    return lemmatized_words"
   ]
  },
  {
   "cell_type": "code",
   "execution_count": null,
   "id": "53dc324f",
   "metadata": {},
   "outputs": [],
   "source": []
  },
  {
   "cell_type": "code",
   "execution_count": null,
   "id": "2ef5fea5",
   "metadata": {},
   "outputs": [],
   "source": []
  },
  {
   "cell_type": "code",
   "execution_count": 21,
   "id": "bc108e04",
   "metadata": {},
   "outputs": [],
   "source": [
    "jd = {'wd_id': 61851,\n",
    "  'position': '집무실 IoT 개발자',\n",
    "  'main_tasks': '• 집무실 인프라 구축: (IoT)전원 관리 설계 및 구성, QR 코드 기반 출입 제어 설계 및 구성, 내부 네트워크 설계/구축/관리, IP Camera를 통한 영상 분석 등 집무실에서 사용하는 모든 네트워크 및 IoT 인프라 구축\\n• 자동화 관리: 구축된 인프라를 바탕으로한 집무실 공간 자동화 설계 및 구성\\n\\n• 현재 집무실에서는 이미 QR코드를 통해 출입을 제어하고 네트워크 및 전원 등을 리모트로 관리하고 있습니다. 이런 집무실의 인프라들을 구축하고 관리하게 됩니다.\\n• 인프라중 직접 제어가 필요한 경우 개발을 진행합니다.\\n• 위의 내용들을 바탕으로 공간 운영 자동화/무인화를 구축합니다.',\n",
    "  'requirements': '•  IoT를 통한 공간 관리 및 자동화에 대한 높은 관심이 있어야 합니다.\\n• Linux 시스템에 대한 이해가 필요합니다.\\n• Python, Javascript 등 코드를 작성하고 기본적인 하드웨어 제어를 할 수 있어야 합니다.\\n• Git을 사용하고 이를 통한 협업을 충분히 이해해야 합니다.\\n• 분산(원격) 근무시 소통에 문제가 없어야 합니다.\\n• 로켓펀치 개인 프로필을 충실히 기입한 후 지원하시기 바랍니다.',\n",
    "  'preferred_points': '• 적극적으로 서비스 개선에 필요한 업무를 찾고 개선할수 있는 인성과 역량\\n•  Home Assistant, SmartThings 등 IoT 허브 개발 경험\\n• Raspberry PI, Arduino, ESP 등 Single Board Computer에 대한 이해 및 개발 경험\\n• 공간 자동화 개발에 필요한 이해 및 구축 경험',\n",
    "  'category': '개발'}"
   ]
  },
  {
   "cell_type": "code",
   "execution_count": 22,
   "id": "abe6aff0",
   "metadata": {},
   "outputs": [
    {
     "data": {
      "text/plain": [
       "{'wd_id': 61851,\n",
       " 'position': '집무실 IoT 개발자',\n",
       " 'main_tasks': '• 집무실 인프라 구축: (IoT)전원 관리 설계 및 구성, QR 코드 기반 출입 제어 설계 및 구성, 내부 네트워크 설계/구축/관리, IP Camera를 통한 영상 분석 등 집무실에서 사용하는 모든 네트워크 및 IoT 인프라 구축\\n• 자동화 관리: 구축된 인프라를 바탕으로한 집무실 공간 자동화 설계 및 구성\\n\\n• 현재 집무실에서는 이미 QR코드를 통해 출입을 제어하고 네트워크 및 전원 등을 리모트로 관리하고 있습니다. 이런 집무실의 인프라들을 구축하고 관리하게 됩니다.\\n• 인프라중 직접 제어가 필요한 경우 개발을 진행합니다.\\n• 위의 내용들을 바탕으로 공간 운영 자동화/무인화를 구축합니다.',\n",
       " 'requirements': '•  IoT를 통한 공간 관리 및 자동화에 대한 높은 관심이 있어야 합니다.\\n• Linux 시스템에 대한 이해가 필요합니다.\\n• Python, Javascript 등 코드를 작성하고 기본적인 하드웨어 제어를 할 수 있어야 합니다.\\n• Git을 사용하고 이를 통한 협업을 충분히 이해해야 합니다.\\n• 분산(원격) 근무시 소통에 문제가 없어야 합니다.\\n• 로켓펀치 개인 프로필을 충실히 기입한 후 지원하시기 바랍니다.',\n",
       " 'preferred_points': '• 적극적으로 서비스 개선에 필요한 업무를 찾고 개선할수 있는 인성과 역량\\n•  Home Assistant, SmartThings 등 IoT 허브 개발 경험\\n• Raspberry PI, Arduino, ESP 등 Single Board Computer에 대한 이해 및 개발 경험\\n• 공간 자동화 개발에 필요한 이해 및 구축 경험',\n",
       " 'category': '개발'}"
      ]
     },
     "execution_count": 22,
     "metadata": {},
     "output_type": "execute_result"
    }
   ],
   "source": [
    "jd"
   ]
  },
  {
   "cell_type": "code",
   "execution_count": null,
   "id": "7b0d9537",
   "metadata": {},
   "outputs": [],
   "source": []
  },
  {
   "cell_type": "code",
   "execution_count": 23,
   "id": "3cb5ecd0",
   "metadata": {},
   "outputs": [],
   "source": [
    "kkma = Kkma()\n",
    "wlem = nltk.WordNetLemmatizer()"
   ]
  },
  {
   "cell_type": "code",
   "execution_count": 24,
   "id": "06afc6c3",
   "metadata": {},
   "outputs": [
    {
     "data": {
      "text/plain": [
       "['집무실', '개발자']"
      ]
     },
     "execution_count": 24,
     "metadata": {},
     "output_type": "execute_result"
    }
   ],
   "source": [
    "extract_kor(jd['position'])"
   ]
  },
  {
   "cell_type": "code",
   "execution_count": 25,
   "id": "f1af44fa",
   "metadata": {},
   "outputs": [
    {
     "data": {
      "text/plain": [
       "['iot', '개발자']"
      ]
     },
     "execution_count": 25,
     "metadata": {},
     "output_type": "execute_result"
    }
   ],
   "source": [
    "extract_eng(jd['position'])"
   ]
  },
  {
   "cell_type": "code",
   "execution_count": null,
   "id": "545500d4",
   "metadata": {},
   "outputs": [],
   "source": []
  },
  {
   "cell_type": "code",
   "execution_count": 26,
   "id": "38a985f6",
   "metadata": {},
   "outputs": [
    {
     "data": {
      "text/plain": [
       "[]"
      ]
     },
     "execution_count": 26,
     "metadata": {},
     "output_type": "execute_result"
    }
   ],
   "source": [
    "extract_kor('I need a pen')"
   ]
  },
  {
   "cell_type": "code",
   "execution_count": null,
   "id": "d7d18d9c",
   "metadata": {},
   "outputs": [],
   "source": []
  },
  {
   "cell_type": "code",
   "execution_count": 27,
   "id": "a619d4f3",
   "metadata": {},
   "outputs": [],
   "source": [
    "if (jd['position'] == None) & (jd['main_tasks'] == None):\n",
    "    print(\"No input data. At least one of position and main_tasks is needed.\")\n",
    "    \n",
    "elif jd['position'] != None:\n",
    "    ex = extract_kor(jd['position'])\n",
    "    \n",
    "    if len(ex) == 0:\n",
    "        ex = extract_eng(jd['position'])\n",
    "        \n",
    "else:\n",
    "    ex = extract_kor(jd['main_tasks'])\n",
    "    \n",
    "    if len(ex) == 0:\n",
    "        ex = extract_eng(jd['main_tasks'])"
   ]
  },
  {
   "cell_type": "code",
   "execution_count": 28,
   "id": "3aa53f4d",
   "metadata": {},
   "outputs": [
    {
     "name": "stdout",
     "output_type": "stream",
     "text": [
      "['집무실', '개발자']\n"
     ]
    }
   ],
   "source": [
    "print(ex)"
   ]
  },
  {
   "cell_type": "code",
   "execution_count": null,
   "id": "3e49232a",
   "metadata": {},
   "outputs": [],
   "source": []
  },
  {
   "cell_type": "code",
   "execution_count": null,
   "id": "92cb21c6",
   "metadata": {},
   "outputs": [],
   "source": []
  },
  {
   "cell_type": "code",
   "execution_count": null,
   "id": "e8de7e2d",
   "metadata": {},
   "outputs": [],
   "source": []
  },
  {
   "cell_type": "code",
   "execution_count": 29,
   "id": "04266455",
   "metadata": {},
   "outputs": [
    {
     "name": "stdout",
     "output_type": "stream",
     "text": [
      "['전략', '신입', '매니저', '개발자', '디자이너']\n"
     ]
    }
   ],
   "source": [
    "columns = list(pd.read_csv('../data/preprocessed_data.csv', nrows=0).columns)\n",
    "columns.remove('category')\n",
    "print(columns[:5])"
   ]
  },
  {
   "cell_type": "code",
   "execution_count": null,
   "id": "5fb3e60f",
   "metadata": {},
   "outputs": [],
   "source": []
  },
  {
   "cell_type": "code",
   "execution_count": null,
   "id": "0ac76153",
   "metadata": {},
   "outputs": [],
   "source": []
  },
  {
   "cell_type": "code",
   "execution_count": null,
   "id": "f1a3d52c",
   "metadata": {},
   "outputs": [],
   "source": []
  },
  {
   "cell_type": "code",
   "execution_count": 30,
   "id": "3e1ce62e",
   "metadata": {},
   "outputs": [],
   "source": [
    "#load model\n",
    "model = pickle.load(open('../model/xgb-model', 'rb'))"
   ]
  },
  {
   "cell_type": "code",
   "execution_count": null,
   "id": "67f3de1c",
   "metadata": {},
   "outputs": [],
   "source": []
  },
  {
   "cell_type": "code",
   "execution_count": null,
   "id": "f8236715",
   "metadata": {},
   "outputs": [],
   "source": []
  },
  {
   "cell_type": "code",
   "execution_count": 31,
   "id": "a4eeb64a",
   "metadata": {},
   "outputs": [],
   "source": [
    "df = pd.DataFrame(columns=columns)\n",
    "df.loc[len(df)] = 0\n",
    "\n",
    "for col in columns:\n",
    "    df[col] = df[col].astype('int')"
   ]
  },
  {
   "cell_type": "code",
   "execution_count": 32,
   "id": "14d42b66",
   "metadata": {},
   "outputs": [
    {
     "data": {
      "text/html": [
       "<div>\n",
       "<style scoped>\n",
       "    .dataframe tbody tr th:only-of-type {\n",
       "        vertical-align: middle;\n",
       "    }\n",
       "\n",
       "    .dataframe tbody tr th {\n",
       "        vertical-align: top;\n",
       "    }\n",
       "\n",
       "    .dataframe thead th {\n",
       "        text-align: right;\n",
       "    }\n",
       "</style>\n",
       "<table border=\"1\" class=\"dataframe\">\n",
       "  <thead>\n",
       "    <tr style=\"text-align: right;\">\n",
       "      <th></th>\n",
       "      <th>전략</th>\n",
       "      <th>신입</th>\n",
       "      <th>매니저</th>\n",
       "      <th>개발자</th>\n",
       "      <th>디자이너</th>\n",
       "      <th>웹</th>\n",
       "      <th>마</th>\n",
       "      <th>콘텐츠</th>\n",
       "      <th>이상</th>\n",
       "      <th>컨텐츠</th>\n",
       "      <th>...</th>\n",
       "      <th>senior</th>\n",
       "      <th>digital</th>\n",
       "      <th>pm</th>\n",
       "      <th>machine</th>\n",
       "      <th>uiux</th>\n",
       "      <th>marketer</th>\n",
       "      <th>app</th>\n",
       "      <th>graphic</th>\n",
       "      <th>ad</th>\n",
       "      <th>coupang</th>\n",
       "    </tr>\n",
       "  </thead>\n",
       "  <tbody>\n",
       "    <tr>\n",
       "      <th>0</th>\n",
       "      <td>0</td>\n",
       "      <td>0</td>\n",
       "      <td>0</td>\n",
       "      <td>0</td>\n",
       "      <td>0</td>\n",
       "      <td>0</td>\n",
       "      <td>0</td>\n",
       "      <td>0</td>\n",
       "      <td>0</td>\n",
       "      <td>0</td>\n",
       "      <td>...</td>\n",
       "      <td>0</td>\n",
       "      <td>0</td>\n",
       "      <td>0</td>\n",
       "      <td>0</td>\n",
       "      <td>0</td>\n",
       "      <td>0</td>\n",
       "      <td>0</td>\n",
       "      <td>0</td>\n",
       "      <td>0</td>\n",
       "      <td>0</td>\n",
       "    </tr>\n",
       "  </tbody>\n",
       "</table>\n",
       "<p>1 rows × 105 columns</p>\n",
       "</div>"
      ],
      "text/plain": [
       "   전략  신입  매니저  개발자  디자이너  웹  마  콘텐츠  이상  컨텐츠  ...  senior  digital  pm  \\\n",
       "0   0   0    0    0     0  0  0    0   0    0  ...       0        0   0   \n",
       "\n",
       "   machine  uiux  marketer  app  graphic  ad  coupang  \n",
       "0        0     0         0    0        0   0        0  \n",
       "\n",
       "[1 rows x 105 columns]"
      ]
     },
     "execution_count": 32,
     "metadata": {},
     "output_type": "execute_result"
    }
   ],
   "source": [
    "df"
   ]
  },
  {
   "cell_type": "code",
   "execution_count": 33,
   "id": "6e708d39",
   "metadata": {},
   "outputs": [],
   "source": [
    "for w in ex:\n",
    "    if w in df.columns:\n",
    "        df.loc[0, w] = 1"
   ]
  },
  {
   "cell_type": "code",
   "execution_count": 34,
   "id": "0be37e8a",
   "metadata": {},
   "outputs": [
    {
     "data": {
      "text/html": [
       "<div>\n",
       "<style scoped>\n",
       "    .dataframe tbody tr th:only-of-type {\n",
       "        vertical-align: middle;\n",
       "    }\n",
       "\n",
       "    .dataframe tbody tr th {\n",
       "        vertical-align: top;\n",
       "    }\n",
       "\n",
       "    .dataframe thead th {\n",
       "        text-align: right;\n",
       "    }\n",
       "</style>\n",
       "<table border=\"1\" class=\"dataframe\">\n",
       "  <thead>\n",
       "    <tr style=\"text-align: right;\">\n",
       "      <th></th>\n",
       "      <th>전략</th>\n",
       "      <th>신입</th>\n",
       "      <th>매니저</th>\n",
       "      <th>개발자</th>\n",
       "      <th>디자이너</th>\n",
       "      <th>웹</th>\n",
       "      <th>마</th>\n",
       "      <th>콘텐츠</th>\n",
       "      <th>이상</th>\n",
       "      <th>컨텐츠</th>\n",
       "      <th>...</th>\n",
       "      <th>senior</th>\n",
       "      <th>digital</th>\n",
       "      <th>pm</th>\n",
       "      <th>machine</th>\n",
       "      <th>uiux</th>\n",
       "      <th>marketer</th>\n",
       "      <th>app</th>\n",
       "      <th>graphic</th>\n",
       "      <th>ad</th>\n",
       "      <th>coupang</th>\n",
       "    </tr>\n",
       "  </thead>\n",
       "  <tbody>\n",
       "    <tr>\n",
       "      <th>0</th>\n",
       "      <td>0</td>\n",
       "      <td>0</td>\n",
       "      <td>0</td>\n",
       "      <td>1</td>\n",
       "      <td>0</td>\n",
       "      <td>0</td>\n",
       "      <td>0</td>\n",
       "      <td>0</td>\n",
       "      <td>0</td>\n",
       "      <td>0</td>\n",
       "      <td>...</td>\n",
       "      <td>0</td>\n",
       "      <td>0</td>\n",
       "      <td>0</td>\n",
       "      <td>0</td>\n",
       "      <td>0</td>\n",
       "      <td>0</td>\n",
       "      <td>0</td>\n",
       "      <td>0</td>\n",
       "      <td>0</td>\n",
       "      <td>0</td>\n",
       "    </tr>\n",
       "  </tbody>\n",
       "</table>\n",
       "<p>1 rows × 105 columns</p>\n",
       "</div>"
      ],
      "text/plain": [
       "   전략  신입  매니저  개발자  디자이너  웹  마  콘텐츠  이상  컨텐츠  ...  senior  digital  pm  \\\n",
       "0   0   0    0    1     0  0  0    0   0    0  ...       0        0   0   \n",
       "\n",
       "   machine  uiux  marketer  app  graphic  ad  coupang  \n",
       "0        0     0         0    0        0   0        0  \n",
       "\n",
       "[1 rows x 105 columns]"
      ]
     },
     "execution_count": 34,
     "metadata": {},
     "output_type": "execute_result"
    }
   ],
   "source": [
    "df"
   ]
  },
  {
   "cell_type": "code",
   "execution_count": 35,
   "id": "8b83a0a0",
   "metadata": {},
   "outputs": [],
   "source": [
    "dtest = xgb.DMatrix(data=df)"
   ]
  },
  {
   "cell_type": "code",
   "execution_count": 36,
   "id": "68baf8ec",
   "metadata": {},
   "outputs": [
    {
     "data": {
      "text/plain": [
       "0"
      ]
     },
     "execution_count": 36,
     "metadata": {},
     "output_type": "execute_result"
    }
   ],
   "source": [
    "int(model.predict(dtest)[0])"
   ]
  },
  {
   "cell_type": "code",
   "execution_count": 37,
   "id": "2dbf80c3",
   "metadata": {},
   "outputs": [
    {
     "data": {
      "text/html": [
       "<div>\n",
       "<style scoped>\n",
       "    .dataframe tbody tr th:only-of-type {\n",
       "        vertical-align: middle;\n",
       "    }\n",
       "\n",
       "    .dataframe tbody tr th {\n",
       "        vertical-align: top;\n",
       "    }\n",
       "\n",
       "    .dataframe thead th {\n",
       "        text-align: right;\n",
       "    }\n",
       "</style>\n",
       "<table border=\"1\" class=\"dataframe\">\n",
       "  <thead>\n",
       "    <tr style=\"text-align: right;\">\n",
       "      <th></th>\n",
       "      <th>category</th>\n",
       "    </tr>\n",
       "  </thead>\n",
       "  <tbody>\n",
       "    <tr>\n",
       "      <th>0</th>\n",
       "      <td>개발</td>\n",
       "    </tr>\n",
       "    <tr>\n",
       "      <th>1</th>\n",
       "      <td>경영, 비즈니스</td>\n",
       "    </tr>\n",
       "    <tr>\n",
       "      <th>2</th>\n",
       "      <td>디자인</td>\n",
       "    </tr>\n",
       "    <tr>\n",
       "      <th>3</th>\n",
       "      <td>마케팅, 광고</td>\n",
       "    </tr>\n",
       "  </tbody>\n",
       "</table>\n",
       "</div>"
      ],
      "text/plain": [
       "   category\n",
       "0        개발\n",
       "1  경영, 비즈니스\n",
       "2       디자인\n",
       "3   마케팅, 광고"
      ]
     },
     "execution_count": 37,
     "metadata": {},
     "output_type": "execute_result"
    }
   ],
   "source": [
    "encoding = pd.read_csv('../data/category_encoding.csv', sep='\\t', index_col=0)\n",
    "encoding"
   ]
  },
  {
   "cell_type": "code",
   "execution_count": 38,
   "id": "60a8572b",
   "metadata": {},
   "outputs": [
    {
     "name": "stdout",
     "output_type": "stream",
     "text": [
      "개발\n"
     ]
    }
   ],
   "source": [
    "print(encoding.loc[int(model.predict(dtest)[0]), 'category'])"
   ]
  },
  {
   "cell_type": "code",
   "execution_count": null,
   "id": "51dad2a7",
   "metadata": {},
   "outputs": [],
   "source": []
  }
 ],
 "metadata": {
  "kernelspec": {
   "display_name": "Python 3",
   "language": "python",
   "name": "python3"
  },
  "language_info": {
   "codemirror_mode": {
    "name": "ipython",
    "version": 3
   },
   "file_extension": ".py",
   "mimetype": "text/x-python",
   "name": "python",
   "nbconvert_exporter": "python",
   "pygments_lexer": "ipython3",
   "version": "3.6.9"
  }
 },
 "nbformat": 4,
 "nbformat_minor": 5
}
